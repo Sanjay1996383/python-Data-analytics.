{
 "cells": [
  {
   "cell_type": "code",
   "execution_count": null,
   "metadata": {},
   "outputs": [],
   "source": [
    "class Account:\n",
    "    def __init__(self,name,amt,pin,acno):  # SELF MENDATORY USE\n",
    "        \n",
    "        self.name = name\n",
    "        self.amt = amt\n",
    "        self.pin = pin\n",
    "        self.acno = acno\n",
    "\n",
    "\n",
    "    def __repr__(self):\n",
    "        \n",
    "        \n",
    "        return f'{self.amt}'\n",
    "\n",
    "accobj = [\n",
    "    Account('ajay',1200,1542,1254555),\n",
    "    Account('vijay',1500,1523,1235545),\n",
    "    Account('sanjay',1502,1352,155335),\n",
    "]\n",
    "accobj"
   ]
  },
  {
   "cell_type": "code",
   "execution_count": null,
   "metadata": {},
   "outputs": [],
   "source": [
    "class Tringle:\n",
    "    def __init__(self , b = 5, h = 10):\n",
    "        self.b = b\n",
    "        self.h = h\n",
    "\n",
    "        def area(self):\n",
    "            return 0.5 *self.b * self.h\n",
    "\n",
    "        def __repr_(self):\n",
    "            return f' tringle {self.area()}'\n",
    "\n",
    "tris = [ \n",
    "    Tringle(10,20),\n",
    "    Tringle(10,18),   \n",
    "]\n",
    "\n",
    "tris"
   ]
  },
  {
   "cell_type": "code",
   "execution_count": null,
   "metadata": {},
   "outputs": [],
   "source": []
  }
 ],
 "metadata": {
  "kernelspec": {
   "display_name": "Python 3",
   "language": "python",
   "name": "python3"
  },
  "language_info": {
   "codemirror_mode": {
    "name": "ipython",
    "version": 3
   },
   "file_extension": ".py",
   "mimetype": "text/x-python",
   "name": "python",
   "nbconvert_exporter": "python",
   "pygments_lexer": "ipython3",
   "version": "3.10.8"
  },
  "orig_nbformat": 4
 },
 "nbformat": 4,
 "nbformat_minor": 2
}
