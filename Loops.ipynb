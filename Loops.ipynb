{
 "cells": [
  {
   "cell_type": "code",
   "execution_count": 8,
   "metadata": {},
   "outputs": [
    {
     "name": "stdout",
     "output_type": "stream",
     "text": [
      "apple\n",
      "banana\n",
      "orange\n"
     ]
    }
   ],
   "source": [
    "#for LOOP\n",
    "\n",
    "Fruits = ['apple','banana','orange']\n",
    "for i in Fruits:\n",
    "    print(i)"
   ]
  },
  {
   "cell_type": "code",
   "execution_count": 9,
   "metadata": {},
   "outputs": [
    {
     "name": "stdout",
     "output_type": "stream",
     "text": [
      "blue apple\n",
      "blue banana\n",
      "blue orange\n",
      "black apple\n",
      "black banana\n",
      "black orange\n",
      "orange apple\n",
      "orange banana\n",
      "orange orange\n"
     ]
    }
   ],
   "source": [
    "#nested for loop\n",
    "#loop inside another loop called nested loop \n",
    "\n",
    "\n",
    "colour = ['blue','black','orange']\n",
    "fruites = ['apple','banana','orange']\n",
    "for i in colour:\n",
    "    for j in fruites:\n",
    "        print(i,j)\n"
   ]
  },
  {
   "cell_type": "code",
   "execution_count": 12,
   "metadata": {},
   "outputs": [
    {
     "name": "stdout",
     "output_type": "stream",
     "text": [
      "blue\n",
      "black\n"
     ]
    }
   ],
   "source": [
    "\n",
    "# break statement for loop\n",
    "\n",
    "colour = ['blue','black','orange']\n",
    "for i in colour:\n",
    "    print(i)\n",
    "    if i =='black':\n",
    "     break"
   ]
  },
  {
   "cell_type": "code",
   "execution_count": 14,
   "metadata": {},
   "outputs": [
    {
     "name": "stdout",
     "output_type": "stream",
     "text": [
      "blue\n",
      "black\n",
      "orange\n",
      "red\n"
     ]
    }
   ],
   "source": [
    "colour = ['blue','black','orange','red','pink']\n",
    "for i in colour:\n",
    "    print(i)\n",
    "    if i =='red':\n",
    "     break"
   ]
  },
  {
   "cell_type": "code",
   "execution_count": 16,
   "metadata": {},
   "outputs": [
    {
     "name": "stdout",
     "output_type": "stream",
     "text": [
      "0\n",
      "1\n",
      "2\n",
      "3\n",
      "4\n",
      "simplilean\n"
     ]
    }
   ],
   "source": [
    "for i in range(5):\n",
    "    print(i)\n",
    "else:\n",
    "    print('simplilean')    "
   ]
  },
  {
   "cell_type": "code",
   "execution_count": null,
   "metadata": {},
   "outputs": [],
   "source": []
  }
 ],
 "metadata": {
  "kernelspec": {
   "display_name": "Python 3",
   "language": "python",
   "name": "python3"
  },
  "language_info": {
   "codemirror_mode": {
    "name": "ipython",
    "version": 3
   },
   "file_extension": ".py",
   "mimetype": "text/x-python",
   "name": "python",
   "nbconvert_exporter": "python",
   "pygments_lexer": "ipython3",
   "version": "3.10.8"
  },
  "orig_nbformat": 4
 },
 "nbformat": 4,
 "nbformat_minor": 2
}
