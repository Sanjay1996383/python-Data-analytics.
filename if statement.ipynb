{
 "cells": [
  {
   "cell_type": "code",
   "execution_count": 1,
   "metadata": {},
   "outputs": [
    {
     "name": "stdout",
     "output_type": "stream",
     "text": [
      "b is greater than a\n"
     ]
    }
   ],
   "source": [
    "a =10 \n",
    "b = 20\n",
    "if b>a:\n",
    "    print('b is greater than a')\n",
    "    "
   ]
  },
  {
   "cell_type": "code",
   "execution_count": 3,
   "metadata": {},
   "outputs": [],
   "source": [
    "if a>b:\n",
    "    print('a is greater than b')"
   ]
  },
  {
   "cell_type": "code",
   "execution_count": 24,
   "metadata": {},
   "outputs": [
    {
     "name": "stdout",
     "output_type": "stream",
     "text": [
      "b is greaterthan a\n"
     ]
    }
   ],
   "source": [
    "if a>b:\n",
    "    print('a is greaterthan b')\n",
    "else: \n",
    "    print('b is greaterthan a')"
   ]
  },
  {
   "cell_type": "code",
   "execution_count": 26,
   "metadata": {},
   "outputs": [
    {
     "name": "stdout",
     "output_type": "stream",
     "text": [
      "b is greatest\n"
     ]
    }
   ],
   "source": [
    "a = 10\n",
    "b = 20\n",
    "c = 5\n",
    "if (a>b) & (a>c):\n",
    "    print('a is greatest')\n",
    "\n",
    "elif (b>a) & (b>c):\n",
    "  print('b is greatest')\n",
    "\n",
    "else: \n",
    "   \n",
    " print('c is greatest')\n",
    "\n"
   ]
  },
  {
   "cell_type": "code",
   "execution_count": 28,
   "metadata": {},
   "outputs": [
    {
     "name": "stdout",
     "output_type": "stream",
     "text": [
      "d is greatest\n"
     ]
    }
   ],
   "source": [
    "a = 10\n",
    "b = 20\n",
    "c = 30 \n",
    "d = 40\n",
    "\n",
    "\n",
    "if (a>b) & (a>c) & (a>d) :\n",
    "    print('a is greatest' )\n",
    "\n",
    "\n",
    "\n",
    "elif (b>a) & (b>c) & (b>d):\n",
    "    print('b is greatest')\n",
    "\n",
    "\n",
    "elif (c>a) & (c>b) & (c>d) :\n",
    "    print('c is greatest')\n",
    "else:\n",
    "    print('d is greatest')    \n"
   ]
  },
  {
   "cell_type": "code",
   "execution_count": null,
   "metadata": {},
   "outputs": [],
   "source": []
  }
 ],
 "metadata": {
  "kernelspec": {
   "display_name": "base",
   "language": "python",
   "name": "python3"
  },
  "language_info": {
   "codemirror_mode": {
    "name": "ipython",
    "version": 3
   },
   "file_extension": ".py",
   "mimetype": "text/x-python",
   "name": "python",
   "nbconvert_exporter": "python",
   "pygments_lexer": "ipython3",
   "version": "3.10.8"
  },
  "orig_nbformat": 4
 },
 "nbformat": 4,
 "nbformat_minor": 2
}
